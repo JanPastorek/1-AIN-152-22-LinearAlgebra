{
 "cells": [
  {
   "cell_type": "markdown",
   "metadata": {},
   "source": [
    "# Chapter 4: Matrix Decompositions\n",
    "\n",
    "Welcome to Chapter 4! Matrix decompositions are powerful tools that break matrices into simpler components, revealing their structure and enabling efficient computations.\n",
    "\n",
    "## 🎯 Learning Objectives\n",
    "By the end of this chapter, you will:\n",
    "- Understand and apply LU decomposition\n",
    "- Perform QR decomposition and the Gram-Schmidt process\n",
    "- Master Singular Value Decomposition (SVD)\n",
    "- Use Cholesky decomposition for positive definite matrices\n",
    "- Apply decompositions to solve practical problems\n",
    "\n",
    "---"
   ]
  },
  {
   "cell_type": "code",
   "execution_count": null,
   "metadata": {},
   "outputs": [],
   "source": [
    "# Import required libraries\n",
    "import numpy as np\n",
    "import matplotlib.pyplot as plt\n",
    "import seaborn as sns\n",
    "from scipy.linalg import lu, qr, svd, cholesky\n",
    "\n",
    "# Set up plotting style\n",
    "plt.style.use('seaborn-v0_8')\n",
    "sns.set_palette(\"husl\")\n",
    "np.random.seed(42)\n",
    "\n",
    "print(\"Libraries imported successfully!\")\n",
    "print(\"This chapter will cover LU, QR, SVD, and Cholesky decompositions.\")"
   ]
  },
  {
   "cell_type": "markdown",
   "metadata": {},
   "source": [
    "## Summary\n",
    "\n",
    "This chapter introduces the fundamental matrix decompositions used in computational linear algebra:\n",
    "\n",
    "1. **LU Decomposition**: $A = LU$ for solving linear systems efficiently\n",
    "2. **QR Decomposition**: $A = QR$ for orthogonal transformations and least squares\n",
    "3. **SVD**: $A = U\\Sigma V^T$ for dimensionality reduction and data analysis\n",
    "4. **Cholesky**: $A = LL^T$ for positive definite matrices\n",
    "\n",
    "**Continue to**: [Chapter 5: Eigenvalues and Eigenvectors](05_Eigenvalues_and_Eigenvectors.ipynb)"
   ]
  }
 ],
 "metadata": {
  "kernelspec": {
   "display_name": "Python 3",
   "language": "python",
   "name": "python3"
  },
  "language_info": {
   "codemirror_mode": {
    "name": "ipython",
    "version": 3
   },
   "file_extension": ".py",
   "mimetype": "text/x-python",
   "name": "python",
   "nbconvert_exporter": "python",
   "pygments_lexer": "ipython3",
   "version": "3.8.5"
  }
 },
 "nbformat": 4,
 "nbformat_minor": 4
}