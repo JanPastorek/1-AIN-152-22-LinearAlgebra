{
 "cells": [
  {
   "cell_type": "markdown",
   "metadata": {},
   "source": [
    "# Chapter 3: Systems of Linear Equations\n",
    "\n",
    "Welcome to Chapter 3! Now we'll explore one of the most practical applications of linear algebra: solving systems of linear equations. This is fundamental to many areas including engineering, economics, physics, and data science.\n",
    "\n",
    "## 🎯 Learning Objectives\n",
    "By the end of this chapter, you will:\n",
    "- Understand how to represent systems of equations in matrix form\n",
    "- Solve systems using Gaussian elimination\n",
    "- Calculate matrix inverses and use them to solve systems\n",
    "- Understand when systems have unique, infinite, or no solutions\n",
    "- Apply LU decomposition for efficient solving\n",
    "- Analyze computational complexity and numerical considerations\n",
    "\n",
    "---"
   ]
  },
  {
   "cell_type": "code",
   "execution_count": null,
   "metadata": {},
   "outputs": [],
   "source": [
    "# Import required libraries\n",
    "import numpy as np\n",
    "import matplotlib.pyplot as plt\n",
    "from mpl_toolkits.mplot3d import Axes3D\n",
    "import seaborn as sns\n",
    "from scipy.linalg import lu\n",
    "import time\n",
    "\n",
    "# Set up plotting style\n",
    "plt.style.use('seaborn-v0_8')\n",
    "sns.set_palette(\"husl\")\n",
    "np.random.seed(42)\n",
    "\n",
    "print(\"Libraries imported successfully!\")\n",
    "print(f\"NumPy version: {np.__version__}\")"
   ]
  },
  {
   "cell_type": "markdown",
   "metadata": {},
   "source": [
    "## 1. Introduction to Linear Systems\n",
    "\n",
    "A **system of linear equations** is a collection of linear equations with the same variables.\n",
    "\n",
    "### Example: 2×2 System\n",
    "$$\\begin{align}\n",
    "2x + 3y &= 7 \\\\\n",
    "x - y &= 1\n",
    "\\end{align}$$\n",
    "\n",
    "### Matrix Form: $\\mathbf{A}\\mathbf{x} = \\mathbf{b}$\n",
    "$$\\begin{bmatrix} 2 & 3 \\\\ 1 & -1 \\end{bmatrix} \\begin{bmatrix} x \\\\ y \\end{bmatrix} = \\begin{bmatrix} 7 \\\\ 1 \\end{bmatrix}$$\n",
    "\n",
    "Where:\n",
    "- $\\mathbf{A}$ = coefficient matrix\n",
    "- $\\mathbf{x}$ = variable vector (unknown)\n",
    "- $\\mathbf{b}$ = constant vector\n",
    "\n",
    "### Types of Solutions:\n",
    "1. **Unique solution**: Exactly one solution\n",
    "2. **Infinite solutions**: System is underdetermined\n",
    "3. **No solution**: System is inconsistent"
   ]
  }
 ],
 "metadata": {
  "kernelspec": {
   "display_name": "Python 3",
   "language": "python",
   "name": "python3"
  },
  "language_info": {
   "codemirror_mode": {
    "name": "ipython",
    "version": 3
   },
   "file_extension": ".py",
   "mimetype": "text/x-python",
   "name": "python",
   "nbconvert_exporter": "python",
   "pygments_lexer": "ipython3",
   "version": "3.8.5"
  }
 },
 "nbformat": 4,
 "nbformat_minor": 4
}