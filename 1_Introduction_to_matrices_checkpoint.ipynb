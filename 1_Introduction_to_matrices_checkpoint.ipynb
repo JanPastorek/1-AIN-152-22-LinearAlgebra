{
  "cells": [
    {
      "cell_type": "markdown",
      "metadata": {
        "id": "tWD1Wt_-SVQB"
      },
      "source": [
        "+ This notebook is part of the addition lecture *An overview of key ideas* in the OCW MIT course 18.06 by Prof Gilbert Strang [1]\n",
        "+ Created by me, Dr Juan H Klopper\n",
        "    + Specialist Surgeon\n",
        "    + Groote Schuur Hospital\n",
        "    + Senior Lecturer in Surgery and Biostatistics & Machine Learning\n",
        "    + University Cape Town\n",
        "    + <a href=\"mailto:juan.klopper@uct.ac.za\">Email me with your thoughts, comments, suggestions and corrections</a>\n",
        "<a rel=\"license\" href=\"http://creativecommons.org/licenses/by-nc/4.0/\"><img alt=\"Creative Commons Licence\" style=\"border-width:0\" src=\"https://i.creativecommons.org/l/by-nc/4.0/88x31.png\" /></a><br /><span xmlns:dct=\"http://purl.org/dc/terms/\" href=\"http://purl.org/dc/dcmitype/InteractiveResource\" property=\"dct:title\" rel=\"dct:type\">Linear Algebra OCW MIT18.06</span> <span xmlns:cc=\"http://creativecommons.org/ns#\" property=\"cc:attributionName\">IPython notebook [2] study notes by Dr Juan H Klopper</span> is licensed under a <a rel=\"license\" href=\"http://creativecommons.org/licenses/by-nc/4.0/\">Creative Commons Attribution-NonCommercial 4.0 International License</a>.\n",
        "\n",
        "+ [1] <a href=\"http://ocw.mit.edu/courses/mathematics/18-06sc-linear-algebra-fall-2011/index.htm\">OCW MIT 18.06</a>\n",
        "+ [2] Fernando Pérez, Brian E. Granger, IPython: A System for Interactive Scientific Computing, Computing in Science and Engineering, vol. 9, no. 3, pp. 21-29, May/June 2007, doi:10.1109/MCSE.2007.53. URL: http://ipython.org"
      ]
    },
    {
      "cell_type": "code",
      "execution_count": 1,
      "metadata": {
        "id": "9Uyo7fXoSVQD",
        "outputId": "c3e1108c-1915-4643-d36d-3273de61fc17",
        "colab": {
          "base_uri": "https://localhost:8080/",
          "height": 176
        }
      },
      "outputs": [
        {
          "output_type": "error",
          "ename": "FileNotFoundError",
          "evalue": "[Errno 2] No such file or directory: 'style.css'",
          "traceback": [
            "\u001b[0;31m---------------------------------------------------------------------------\u001b[0m",
            "\u001b[0;31mFileNotFoundError\u001b[0m                         Traceback (most recent call last)",
            "\u001b[0;32m/tmp/ipython-input-2998698660.py\u001b[0m in \u001b[0;36m<cell line: 0>\u001b[0;34m()\u001b[0m\n\u001b[1;32m      1\u001b[0m \u001b[0;32mfrom\u001b[0m \u001b[0mIPython\u001b[0m\u001b[0;34m.\u001b[0m\u001b[0mcore\u001b[0m\u001b[0;34m.\u001b[0m\u001b[0mdisplay\u001b[0m \u001b[0;32mimport\u001b[0m \u001b[0mHTML\u001b[0m\u001b[0;34m\u001b[0m\u001b[0;34m\u001b[0m\u001b[0m\n\u001b[1;32m      2\u001b[0m \u001b[0mcss_file\u001b[0m \u001b[0;34m=\u001b[0m \u001b[0;34m'style.css'\u001b[0m\u001b[0;34m\u001b[0m\u001b[0;34m\u001b[0m\u001b[0m\n\u001b[0;32m----> 3\u001b[0;31m \u001b[0mHTML\u001b[0m\u001b[0;34m(\u001b[0m\u001b[0mopen\u001b[0m\u001b[0;34m(\u001b[0m\u001b[0mcss_file\u001b[0m\u001b[0;34m,\u001b[0m \u001b[0;34m'r'\u001b[0m\u001b[0;34m)\u001b[0m\u001b[0;34m.\u001b[0m\u001b[0mread\u001b[0m\u001b[0;34m(\u001b[0m\u001b[0;34m)\u001b[0m\u001b[0;34m)\u001b[0m\u001b[0;34m\u001b[0m\u001b[0;34m\u001b[0m\u001b[0m\n\u001b[0m",
            "\u001b[0;31mFileNotFoundError\u001b[0m: [Errno 2] No such file or directory: 'style.css'"
          ]
        }
      ],
      "source": [
        "from IPython.core.display import HTML\n",
        "css_file = 'style.css'\n",
        "HTML(open(css_file, 'r').read())"
      ]
    },
    {
      "cell_type": "markdown",
      "metadata": {
        "id": "vVtGFyKqSVQD"
      },
      "source": [
        "![SegmentLocal](KRG_elegant_logo_for_light_BG.png \"segment\")\n",
        "![SegmentLocal](UCT_logo.gif \"segment\")"
      ]
    },
    {
      "cell_type": "markdown",
      "metadata": {
        "id": "YCGO32Y3SVQD"
      },
      "source": [
        "# Introduction to matrices"
      ]
    },
    {
      "cell_type": "markdown",
      "metadata": {
        "id": "nNifQxcoSVQD"
      },
      "source": [
        "## Preamble"
      ]
    },
    {
      "cell_type": "markdown",
      "metadata": {
        "id": "lUTfvxCqSVQE"
      },
      "source": [
        "Before we start our journey into linear algebra, we take a quick look at creating matrices using the `sympy` package.  As always, we start off by initializing LaTex printing using the `init_printing()` function."
      ]
    },
    {
      "cell_type": "code",
      "execution_count": 2,
      "metadata": {
        "id": "a46XkyylSVQE"
      },
      "outputs": [],
      "source": [
        "from sympy import init_printing\n",
        "init_printing()"
      ]
    },
    {
      "cell_type": "markdown",
      "metadata": {
        "id": "iShw20LsSVQE"
      },
      "source": [
        "## Representing matrices"
      ]
    },
    {
      "cell_type": "markdown",
      "metadata": {
        "id": "VGxMQaO5SVQE"
      },
      "source": [
        "Matrices are represented as $m$ rows of values, spread over $n$ columns, to make up an $m \\times n$ array or grid.  The `sympy` package contains the `Matrix()` function to create these objects."
      ]
    },
    {
      "cell_type": "code",
      "execution_count": 3,
      "metadata": {
        "id": "GUgN262tSVQE"
      },
      "outputs": [],
      "source": [
        "from sympy import Matrix"
      ]
    },
    {
      "cell_type": "markdown",
      "metadata": {
        "id": "jMti_PrsSVQE"
      },
      "source": [
        "Expression (1) depicts a $4 \\times 3$ matrix of integer values.  We can recreate this using the `Matrix()` function.  This is a matrix.  A matrix has a dimension, which lists, in order, the number of rows and the number of columns.  The matrix in (1) has dimension $3 \\times 3$."
      ]
    },
    {
      "cell_type": "markdown",
      "metadata": {
        "id": "VfmhT6OXSVQE"
      },
      "source": [
        "$$\\begin{bmatrix} 1 && 2 && 3 \\\\ 4 && 5 && 6 \\\\ 7 && 8 && 9 \\\\ 10 && 11 && 12 \\end{bmatrix} \\tag{1}$$"
      ]
    },
    {
      "cell_type": "markdown",
      "metadata": {
        "id": "AAath1ULSVQF"
      },
      "source": [
        "The values are entered as a list of list, with each sublist containing a row of values."
      ]
    },
    {
      "cell_type": "code",
      "execution_count": 4,
      "metadata": {
        "id": "Op1ZKrN7SVQF",
        "outputId": "db5c1f3f-ef45-41fb-ef6b-f26a66a2c90a",
        "colab": {
          "base_uri": "https://localhost:8080/",
          "height": 98
        }
      },
      "outputs": [
        {
          "output_type": "execute_result",
          "data": {
            "text/plain": [
              "⎡1   2   3 ⎤\n",
              "⎢          ⎥\n",
              "⎢4   5   6 ⎥\n",
              "⎢          ⎥\n",
              "⎢7   8   9 ⎥\n",
              "⎢          ⎥\n",
              "⎣10  11  12⎦"
            ],
            "text/latex": "$\\displaystyle \\left[\\begin{matrix}1 & 2 & 3\\\\4 & 5 & 6\\\\7 & 8 & 9\\\\10 & 11 & 12\\end{matrix}\\right]$"
          },
          "metadata": {},
          "execution_count": 4
        }
      ],
      "source": [
        "matrix_1 = Matrix([[1, 2, 3],\n",
        "                  [4, 5, 6],\n",
        "                  [7, 8, 9],\n",
        "                  [10, 11, 12]])\n",
        "matrix_1"
      ]
    },
    {
      "cell_type": "markdown",
      "metadata": {
        "id": "qB4jMjAGSVQF"
      },
      "source": [
        "By using the `type()` function we can inspect the object type of which `matrix_1` is an instance."
      ]
    },
    {
      "cell_type": "code",
      "execution_count": 5,
      "metadata": {
        "id": "pWTNnLDRSVQF",
        "outputId": "bf62a90f-99a8-4bd5-ed07-e4c102e32e47",
        "colab": {
          "base_uri": "https://localhost:8080/"
        }
      },
      "outputs": [
        {
          "output_type": "execute_result",
          "data": {
            "text/plain": [
              "sympy.matrices.dense.MutableDenseMatrix"
            ]
          },
          "metadata": {},
          "execution_count": 5
        }
      ],
      "source": [
        "type(matrix_1)"
      ]
    },
    {
      "cell_type": "markdown",
      "metadata": {
        "id": "R5GlAJFNSVQF"
      },
      "source": [
        "We note that it is a `MutableDenseMatrix`.  Mutable refers to the fact that we can change the values in the matrix and dense refers to the fact that there are not an abundance of zeros in the data."
      ]
    },
    {
      "cell_type": "markdown",
      "metadata": {
        "id": "8TsaBu3hSVQF"
      },
      "source": [
        "## Shape"
      ]
    },
    {
      "cell_type": "markdown",
      "metadata": {
        "id": "cP1XwdPZSVQF"
      },
      "source": [
        "The `.shape()` method calculates the number of rows and columns of a matrix."
      ]
    },
    {
      "cell_type": "code",
      "execution_count": 6,
      "metadata": {
        "id": "QeuSmnFVSVQF",
        "outputId": "00bb102f-5015-4602-f09f-24d3de9a6094",
        "colab": {
          "base_uri": "https://localhost:8080/",
          "height": 37
        }
      },
      "outputs": [
        {
          "output_type": "execute_result",
          "data": {
            "text/plain": [
              "(4, 3)"
            ],
            "text/latex": "$\\displaystyle \\left( 4, \\  3\\right)$"
          },
          "metadata": {},
          "execution_count": 6
        }
      ],
      "source": [
        "matrix_1.shape"
      ]
    },
    {
      "cell_type": "markdown",
      "metadata": {
        "id": "ICNNGhlpSVQF"
      },
      "source": [
        "## Accessing values in rows and columns"
      ]
    },
    {
      "cell_type": "markdown",
      "metadata": {
        "id": "1dPijHhYSVQF"
      },
      "source": [
        "The `.row()` and `.col()` methods give us access to the values in a matrix.  Remember that Python indexing starts at $0$, such that the first row (in the mathematical representation) is the zeroth row in `python`."
      ]
    },
    {
      "cell_type": "code",
      "execution_count": 7,
      "metadata": {
        "id": "RlYS8t6MSVQF",
        "outputId": "4c9388c4-e7b7-4c26-a39b-01841a6f9118",
        "colab": {
          "base_uri": "https://localhost:8080/",
          "height": 39
        }
      },
      "outputs": [
        {
          "output_type": "execute_result",
          "data": {
            "text/plain": [
              "[1  2  3]"
            ],
            "text/latex": "$\\displaystyle \\left[\\begin{matrix}1 & 2 & 3\\end{matrix}\\right]$"
          },
          "metadata": {},
          "execution_count": 7
        }
      ],
      "source": [
        "matrix_1.row(0)  # The first row"
      ]
    },
    {
      "cell_type": "code",
      "execution_count": 8,
      "metadata": {
        "id": "QSt86PbASVQF",
        "outputId": "cd5ca192-0d15-46f4-e074-40c36e3a9de9",
        "colab": {
          "base_uri": "https://localhost:8080/",
          "height": 98
        }
      },
      "outputs": [
        {
          "output_type": "execute_result",
          "data": {
            "text/plain": [
              "⎡1 ⎤\n",
              "⎢  ⎥\n",
              "⎢4 ⎥\n",
              "⎢  ⎥\n",
              "⎢7 ⎥\n",
              "⎢  ⎥\n",
              "⎣10⎦"
            ],
            "text/latex": "$\\displaystyle \\left[\\begin{matrix}1\\\\4\\\\7\\\\10\\end{matrix}\\right]$"
          },
          "metadata": {},
          "execution_count": 8
        }
      ],
      "source": [
        "matrix_1.col(0)  # The first column"
      ]
    },
    {
      "cell_type": "markdown",
      "metadata": {
        "id": "ukP5NnGGSVQF"
      },
      "source": [
        "The `-1` value gives us access to the last row or column."
      ]
    },
    {
      "cell_type": "code",
      "execution_count": 9,
      "metadata": {
        "id": "3uv8PRCeSVQF",
        "outputId": "3965453f-9b40-4bcc-bd5a-c600592c0bcc",
        "colab": {
          "base_uri": "https://localhost:8080/",
          "height": 39
        }
      },
      "outputs": [
        {
          "output_type": "execute_result",
          "data": {
            "text/plain": [
              "[10  11  12]"
            ],
            "text/latex": "$\\displaystyle \\left[\\begin{matrix}10 & 11 & 12\\end{matrix}\\right]$"
          },
          "metadata": {},
          "execution_count": 9
        }
      ],
      "source": [
        "matrix_1.row(-1)"
      ]
    },
    {
      "cell_type": "markdown",
      "metadata": {
        "id": "8bkltQabSVQG"
      },
      "source": [
        "Every element in a matrix is indexed, with a row and column number.  In (2), we see a $3 \\times 4$ matrix with the index of every element.  Note we place both values together, without a comma separating them."
      ]
    },
    {
      "cell_type": "markdown",
      "metadata": {
        "id": "KKL13mliSVQG"
      },
      "source": [
        "$$\\begin{pmatrix} a_{11} && a_{12} && a_{13} && a_{14} \\\\ a_{21} && a_{22} && a_{23} && a_{24} \\\\ a_{31} && a_{32} && a_{33} && a_{34} \\end{pmatrix} \\tag{2}$$"
      ]
    },
    {
      "cell_type": "markdown",
      "metadata": {
        "id": "saTQNvu2SVQG"
      },
      "source": [
        "So, if we wish to find the element in the first row and the first column in our `matrix_1` variable (which holds a `sympy` matrix object), we will use `0,0` and not `1,1`.  The _indexing_ (using the _address_ of each element) is done by using square brackets."
      ]
    },
    {
      "cell_type": "code",
      "execution_count": 10,
      "metadata": {
        "id": "ZFuRY9N4SVQG",
        "outputId": "36f61036-f136-4f0d-a527-ab00fcb5f505",
        "colab": {
          "base_uri": "https://localhost:8080/",
          "height": 98
        }
      },
      "outputs": [
        {
          "output_type": "execute_result",
          "data": {
            "text/plain": [
              "⎡1   2   3 ⎤\n",
              "⎢          ⎥\n",
              "⎢4   5   6 ⎥\n",
              "⎢          ⎥\n",
              "⎢7   8   9 ⎥\n",
              "⎢          ⎥\n",
              "⎣10  11  12⎦"
            ],
            "text/latex": "$\\displaystyle \\left[\\begin{matrix}1 & 2 & 3\\\\4 & 5 & 6\\\\7 & 8 & 9\\\\10 & 11 & 12\\end{matrix}\\right]$"
          },
          "metadata": {},
          "execution_count": 10
        }
      ],
      "source": [
        "# Repriting matrix_1\n",
        "matrix_1"
      ]
    },
    {
      "cell_type": "code",
      "execution_count": 11,
      "metadata": {
        "id": "1Q8keMBaSVQG",
        "outputId": "34065977-d341-41f9-ff3d-a4afa62e1d06",
        "colab": {
          "base_uri": "https://localhost:8080/",
          "height": 37
        }
      },
      "outputs": [
        {
          "output_type": "execute_result",
          "data": {
            "text/plain": [
              "1"
            ],
            "text/latex": "$\\displaystyle 1$"
          },
          "metadata": {},
          "execution_count": 11
        }
      ],
      "source": [
        "matrix_1[0,0]"
      ]
    },
    {
      "cell_type": "markdown",
      "metadata": {
        "id": "a50Dtvr1SVQG"
      },
      "source": [
        "Let's look at the element in the second row and third column, which is $6$."
      ]
    },
    {
      "cell_type": "code",
      "execution_count": 12,
      "metadata": {
        "id": "i5tX89LNSVQG",
        "outputId": "5236f935-f9da-4608-c77c-53ca90b25c6b",
        "colab": {
          "base_uri": "https://localhost:8080/",
          "height": 37
        }
      },
      "outputs": [
        {
          "output_type": "execute_result",
          "data": {
            "text/plain": [
              "6"
            ],
            "text/latex": "$\\displaystyle 6$"
          },
          "metadata": {},
          "execution_count": 12
        }
      ],
      "source": [
        "matrix_1[1,2]"
      ]
    },
    {
      "cell_type": "markdown",
      "metadata": {
        "id": "gCGRJAdoSVQG"
      },
      "source": [
        "We can also span a few rows and column.  Below, we index the first two rows.  This is done by using the colon, `:`, symbol.  The last number (after the colon is excluded, such that `0:2` refers to the zeroth and first row indices."
      ]
    },
    {
      "cell_type": "code",
      "execution_count": 13,
      "metadata": {
        "id": "ohfRIL0sSVQH",
        "outputId": "ba06bcdd-8a9e-4334-8795-1809b87af6c3",
        "colab": {
          "base_uri": "https://localhost:8080/",
          "height": 58
        }
      },
      "outputs": [
        {
          "output_type": "execute_result",
          "data": {
            "text/plain": [
              "⎡1  2  3⎤\n",
              "⎢       ⎥\n",
              "⎣4  5  6⎦"
            ],
            "text/latex": "$\\displaystyle \\left[\\begin{matrix}1 & 2 & 3\\\\4 & 5 & 6\\end{matrix}\\right]$"
          },
          "metadata": {},
          "execution_count": 13
        }
      ],
      "source": [
        "matrix_1[0:2,0:4]"
      ]
    },
    {
      "cell_type": "markdown",
      "metadata": {
        "id": "htLehrUNSVQH"
      },
      "source": [
        "We can also specify the actual rows or columns, by placing them in square brackets (creating a list).  Below, we also use the colon symbol on is won.  This denotes the selection of all values.  So, we have the first and third rows (mathematically) or the zeroth and second `python` row index, and all the columns."
      ]
    },
    {
      "cell_type": "code",
      "execution_count": 14,
      "metadata": {
        "id": "0GORv__8SVQH",
        "outputId": "a1426027-41b3-4720-ba00-02c3423ddda5",
        "colab": {
          "base_uri": "https://localhost:8080/",
          "height": 58
        }
      },
      "outputs": [
        {
          "output_type": "execute_result",
          "data": {
            "text/plain": [
              "⎡1  2  3⎤\n",
              "⎢       ⎥\n",
              "⎣7  8  9⎦"
            ],
            "text/latex": "$\\displaystyle \\left[\\begin{matrix}1 & 2 & 3\\\\7 & 8 & 9\\end{matrix}\\right]$"
          },
          "metadata": {},
          "execution_count": 14
        }
      ],
      "source": [
        "matrix_1[[0,2],:]"
      ]
    },
    {
      "cell_type": "markdown",
      "metadata": {
        "id": "yBRkINQhSVQH"
      },
      "source": [
        "## Deleting and inserting rows"
      ]
    },
    {
      "cell_type": "markdown",
      "metadata": {
        "id": "qGf1608oSVQH"
      },
      "source": [
        "Row and column can be inserted into or deleted from a matrix using the `.row_insert()`, `.col_insert()`, `.row_del()`, and `.col_del()` methods.  "
      ]
    },
    {
      "cell_type": "markdown",
      "metadata": {
        "id": "zJqHVeu4SVQH"
      },
      "source": [
        "Let's have a look at where these inserted and deletions take place."
      ]
    },
    {
      "cell_type": "code",
      "execution_count": 15,
      "metadata": {
        "id": "kchZbNAdSVQH",
        "outputId": "4e5d0296-3307-4850-f9dc-7bbee9c17fc6",
        "colab": {
          "base_uri": "https://localhost:8080/",
          "height": 119
        }
      },
      "outputs": [
        {
          "output_type": "execute_result",
          "data": {
            "text/plain": [
              "⎡1   2   3 ⎤\n",
              "⎢          ⎥\n",
              "⎢10  20  30⎥\n",
              "⎢          ⎥\n",
              "⎢4   5   6 ⎥\n",
              "⎢          ⎥\n",
              "⎢7   8   9 ⎥\n",
              "⎢          ⎥\n",
              "⎣10  11  12⎦"
            ],
            "text/latex": "$\\displaystyle \\left[\\begin{matrix}1 & 2 & 3\\\\10 & 20 & 30\\\\4 & 5 & 6\\\\7 & 8 & 9\\\\10 & 11 & 12\\end{matrix}\\right]$"
          },
          "metadata": {},
          "execution_count": 15
        }
      ],
      "source": [
        "matrix_1.row_insert(1, Matrix([[10, 20, 30]]))  # Using row 1"
      ]
    },
    {
      "cell_type": "markdown",
      "metadata": {
        "id": "HeGidYJ7SVQH"
      },
      "source": [
        "We note that the row was inserted as row 1."
      ]
    },
    {
      "cell_type": "markdown",
      "metadata": {
        "id": "tRKmejM8SVQI"
      },
      "source": [
        "If we call the matrix again, we note that the changes were not permanent."
      ]
    },
    {
      "cell_type": "code",
      "execution_count": 16,
      "metadata": {
        "id": "j0-Xt59aSVQI",
        "outputId": "c68f62b5-e1e2-439f-828a-d9af91d446ea",
        "colab": {
          "base_uri": "https://localhost:8080/",
          "height": 98
        }
      },
      "outputs": [
        {
          "output_type": "execute_result",
          "data": {
            "text/plain": [
              "⎡1   2   3 ⎤\n",
              "⎢          ⎥\n",
              "⎢4   5   6 ⎥\n",
              "⎢          ⎥\n",
              "⎢7   8   9 ⎥\n",
              "⎢          ⎥\n",
              "⎣10  11  12⎦"
            ],
            "text/latex": "$\\displaystyle \\left[\\begin{matrix}1 & 2 & 3\\\\4 & 5 & 6\\\\7 & 8 & 9\\\\10 & 11 & 12\\end{matrix}\\right]$"
          },
          "metadata": {},
          "execution_count": 16
        }
      ],
      "source": [
        "matrix_1"
      ]
    },
    {
      "cell_type": "markdown",
      "metadata": {
        "id": "4-mt25QaSVQI"
      },
      "source": [
        "We have to overwrite the computer variable to make the changes permanent or alternatively create a new computer variable. (This is contrary to the current documentation.)"
      ]
    },
    {
      "cell_type": "code",
      "execution_count": 17,
      "metadata": {
        "id": "Alx3N1ONSVQI"
      },
      "outputs": [],
      "source": [
        "matrix_2 = matrix_1.row_insert(1, Matrix([[10, 20, 30]]))"
      ]
    },
    {
      "cell_type": "code",
      "execution_count": 18,
      "metadata": {
        "id": "jDfuqv0RSVQI",
        "outputId": "94951c96-4cb7-4e84-a10b-283b45967fad",
        "colab": {
          "base_uri": "https://localhost:8080/",
          "height": 119
        }
      },
      "outputs": [
        {
          "output_type": "execute_result",
          "data": {
            "text/plain": [
              "⎡1   2   3 ⎤\n",
              "⎢          ⎥\n",
              "⎢10  20  30⎥\n",
              "⎢          ⎥\n",
              "⎢4   5   6 ⎥\n",
              "⎢          ⎥\n",
              "⎢7   8   9 ⎥\n",
              "⎢          ⎥\n",
              "⎣10  11  12⎦"
            ],
            "text/latex": "$\\displaystyle \\left[\\begin{matrix}1 & 2 & 3\\\\10 & 20 & 30\\\\4 & 5 & 6\\\\7 & 8 & 9\\\\10 & 11 & 12\\end{matrix}\\right]$"
          },
          "metadata": {},
          "execution_count": 18
        }
      ],
      "source": [
        "matrix_2"
      ]
    },
    {
      "cell_type": "code",
      "execution_count": 20,
      "metadata": {
        "id": "C5Gjxs7ISVQI"
      },
      "outputs": [],
      "source": [
        "matrix_3 = matrix_1.row_del(1)  # Permanently deleting the second row\n",
        "matrix_3  # A bug in the code currently returns a NoneType object"
      ]
    },
    {
      "cell_type": "markdown",
      "metadata": {
        "id": "XTGQr9qeSVQI"
      },
      "source": [
        "## Useful matrix constructors"
      ]
    },
    {
      "cell_type": "markdown",
      "metadata": {
        "id": "S6Ek67ViSVQI"
      },
      "source": [
        "There are a few special matrices that can be constructed using `sympy` functions.  The zero matrix of size $n \\times n$ can be created with the `zeros()` function and the $n \\times n$ identity matrix (more on this later) can be created with the `eye()` function."
      ]
    },
    {
      "cell_type": "code",
      "execution_count": 22,
      "metadata": {
        "id": "rWVNY88oSVQI"
      },
      "outputs": [],
      "source": [
        "from sympy import zeros, eye"
      ]
    },
    {
      "cell_type": "code",
      "execution_count": 24,
      "metadata": {
        "id": "0gdqHO9ZSVQI",
        "outputId": "5ebf3307-4a42-4249-bf2d-8ef1bc4646d9",
        "colab": {
          "base_uri": "https://localhost:8080/",
          "height": 119
        }
      },
      "outputs": [
        {
          "output_type": "execute_result",
          "data": {
            "text/plain": [
              "⎡0  0  0  0  0⎤\n",
              "⎢             ⎥\n",
              "⎢0  0  0  0  0⎥\n",
              "⎢             ⎥\n",
              "⎢0  0  0  0  0⎥\n",
              "⎢             ⎥\n",
              "⎢0  0  0  0  0⎥\n",
              "⎢             ⎥\n",
              "⎣0  0  0  0  0⎦"
            ],
            "text/latex": "$\\displaystyle \\left[\\begin{matrix}0 & 0 & 0 & 0 & 0\\\\0 & 0 & 0 & 0 & 0\\\\0 & 0 & 0 & 0 & 0\\\\0 & 0 & 0 & 0 & 0\\\\0 & 0 & 0 & 0 & 0\\end{matrix}\\right]$"
          },
          "metadata": {},
          "execution_count": 24
        }
      ],
      "source": [
        "zeros(5)  # A 5x5 matrix of all zeros\n",
        "zeros(5)"
      ]
    },
    {
      "cell_type": "code",
      "execution_count": 26,
      "metadata": {
        "id": "D8gN28KISVQI",
        "outputId": "6844734d-705d-45ab-8fdf-fd858f9c9ab8",
        "colab": {
          "base_uri": "https://localhost:8080/",
          "height": 98
        }
      },
      "outputs": [
        {
          "output_type": "execute_result",
          "data": {
            "text/plain": [
              "⎡1  0  0  0⎤\n",
              "⎢          ⎥\n",
              "⎢0  1  0  0⎥\n",
              "⎢          ⎥\n",
              "⎢0  0  1  0⎥\n",
              "⎢          ⎥\n",
              "⎣0  0  0  1⎦"
            ],
            "text/latex": "$\\displaystyle \\left[\\begin{matrix}1 & 0 & 0 & 0\\\\0 & 1 & 0 & 0\\\\0 & 0 & 1 & 0\\\\0 & 0 & 0 & 1\\end{matrix}\\right]$"
          },
          "metadata": {},
          "execution_count": 26
        }
      ],
      "source": [
        "eye(4)  # A 4x4 identity matrix"
      ]
    },
    {
      "cell_type": "markdown",
      "metadata": {
        "id": "dqtdx0xVSVQI"
      },
      "source": [
        "The `diag()` function creates a diagonal matrix (which is square) with specified values along the main axis (top-left to bottom-right) and zeros everywhere else."
      ]
    },
    {
      "cell_type": "code",
      "execution_count": 27,
      "metadata": {
        "id": "FODFMBPySVQI"
      },
      "outputs": [],
      "source": [
        "from sympy import diag"
      ]
    },
    {
      "cell_type": "code",
      "execution_count": 28,
      "metadata": {
        "id": "Oj5p0eEQSVQI",
        "outputId": "7a516361-081e-4d82-987c-cc971629440e",
        "colab": {
          "base_uri": "https://localhost:8080/",
          "height": 119
        }
      },
      "outputs": [
        {
          "output_type": "execute_result",
          "data": {
            "text/plain": [
              "⎡1  0  0  0  0⎤\n",
              "⎢             ⎥\n",
              "⎢0  2  0  0  0⎥\n",
              "⎢             ⎥\n",
              "⎢0  0  3  0  0⎥\n",
              "⎢             ⎥\n",
              "⎢0  0  0  4  0⎥\n",
              "⎢             ⎥\n",
              "⎣0  0  0  0  5⎦"
            ],
            "text/latex": "$\\displaystyle \\left[\\begin{matrix}1 & 0 & 0 & 0 & 0\\\\0 & 2 & 0 & 0 & 0\\\\0 & 0 & 3 & 0 & 0\\\\0 & 0 & 0 & 4 & 0\\\\0 & 0 & 0 & 0 & 5\\end{matrix}\\right]$"
          },
          "metadata": {},
          "execution_count": 28
        }
      ],
      "source": [
        "diag(1, 2, 3, 4, 5)"
      ]
    },
    {
      "cell_type": "code",
      "execution_count": null,
      "metadata": {
        "id": "Of3G97nESVQJ"
      },
      "outputs": [],
      "source": []
    }
  ],
  "metadata": {
    "kernelspec": {
      "display_name": "Python 3",
      "language": "python",
      "name": "python3"
    },
    "language_info": {
      "codemirror_mode": {
        "name": "ipython",
        "version": 3
      },
      "file_extension": ".py",
      "mimetype": "text/x-python",
      "name": "python",
      "nbconvert_exporter": "python",
      "pygments_lexer": "ipython3",
      "version": "3.7.0"
    },
    "colab": {
      "provenance": []
    }
  },
  "nbformat": 4,
  "nbformat_minor": 0
}