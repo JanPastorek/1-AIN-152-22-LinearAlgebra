{
  "cells": [
    {
      "cell_type": "markdown",
      "metadata": {
        "id": "vi0acPJaSfrT"
      },
      "source": [
        "+ This notebook is part of the addition lecture *Geometric view of linear algebra* in the OCW MIT course 18.06 by Prof Gilbert Strang [1]\n",
        "+ Created by me, Dr Juan H Klopper\n",
        "    + Specialist Surgeon\n",
        "    + Groote Schuur Hospital\n",
        "    + Senior Lecturer in Surgery and Biostatistics & Machine Learning\n",
        "    + University Cape Town\n",
        "    + <a href=\"mailto:juan.klopper@uct.ac.za\">Email me with your thoughts, comments, suggestions and corrections</a>\n",
        "<a rel=\"license\" href=\"http://creativecommons.org/licenses/by-nc/4.0/\"><img alt=\"Creative Commons Licence\" style=\"border-width:0\" src=\"https://i.creativecommons.org/l/by-nc/4.0/88x31.png\" /></a><br /><span xmlns:dct=\"http://purl.org/dc/terms/\" href=\"http://purl.org/dc/dcmitype/InteractiveResource\" property=\"dct:title\" rel=\"dct:type\">Linear Algebra OCW MIT18.06</span> <span xmlns:cc=\"http://creativecommons.org/ns#\" property=\"cc:attributionName\">IPython notebook [2] study notes by Dr Juan H Klopper</span> is licensed under a <a rel=\"license\" href=\"http://creativecommons.org/licenses/by-nc/4.0/\">Creative Commons Attribution-NonCommercial 4.0 International License</a>.\n",
        "\n",
        "+ [1] <a href=\"http://ocw.mit.edu/courses/mathematics/18-06sc-linear-algebra-fall-2011/index.htm\">OCW MIT 18.06</a>\n",
        "+ [2] Fernando Pérez, Brian E. Granger, IPython: A System for Interactive Scientific Computing, Computing in Science and Engineering, vol. 9, no. 3, pp. 21-29, May/June 2007, doi:10.1109/MCSE.2007.53. URL: http://ipython.org"
      ]
    },
    {
      "cell_type": "code",
      "execution_count": 1,
      "metadata": {},
      "outputs": [
        {
          "name": "stdout",
          "output_type": "stream",
          "text": [
            "pip 25.0.1 from C:\\Program Files\\WindowsApps\\PythonSoftwareFoundation.Python.3.12_3.12.2800.0_x64__qbz5n2kfra8p0\\Lib\\site-packages\\pip (python 3.12)\n",
            "\n"
          ]
        }
      ],
      "source": [
        "!pip --version"
      ]
    },
    {
      "cell_type": "code",
      "execution_count": null,
      "metadata": {
        "id": "HhBC3U7ySfrV",
        "outputId": "861db923-3015-4f90-9858-4337f2cfcc62"
      },
      "outputs": [
        {
          "data": {
            "text/html": [
              "<link href='http://fonts.googleapis.com/css?family=Alegreya+Sans:100,300,400,500,700,800,900,100italic,300italic,400italic,500italic,700italic,800italic,900italic' rel='stylesheet' type='text/css'>\n",
              "<link href='http://fonts.googleapis.com/css?family=Arvo:400,700,400italic' rel='stylesheet' type='text/css'>\n",
              "<link href='http://fonts.googleapis.com/css?family=PT+Mono' rel='stylesheet' type='text/css'>\n",
              "<link href='http://fonts.googleapis.com/css?family=Shadows+Into+Light' rel='stylesheet' type='text/css'>\n",
              "<link href='http://fonts.googleapis.com/css?family=Philosopher:400,700,400italic,700italic' rel='stylesheet' type='text/css'>\n",
              "\n",
              "<style>\n",
              "\n",
              "@font-face {\n",
              "    font-family: \"Computer Modern\";\n",
              "    src: url('http://mirrors.ctan.org/fonts/cm-unicode/fonts/otf/cmunss.otf');\n",
              "}\n",
              "\n",
              "\n",
              "\n",
              "/* Formatting for header cells */\n",
              ".text_cell_render h1 {\n",
              "    font-family: 'Philosopher', sans-serif;\n",
              "    font-weight: 400;\n",
              "    font-size: 2.2em;\n",
              "    line-height: 100%;\n",
              "    color: rgb(0, 80, 120);\n",
              "    margin-bottom: 0.1em;\n",
              "    margin-top: 0.1em;\n",
              "    display: block;\n",
              "}\t\n",
              ".text_cell_render h2 {\n",
              "    font-family: 'Philosopher', serif;\n",
              "    font-weight: 400;\n",
              "    font-size: 1.9em;\n",
              "    line-height: 100%;\n",
              "    color: rgb(245,179,64);\n",
              "    margin-bottom: 0.1em;\n",
              "    margin-top: 0.1em;\n",
              "    display: block;\n",
              "}\t\n",
              "\n",
              ".text_cell_render h3 {\n",
              "    font-family: 'Philosopher', serif;\n",
              "    margin-top:12px;\n",
              "    margin-bottom: 3px;\n",
              "    font-style: italic;\n",
              "    color: rgb(94,127,192);\n",
              "}\n",
              "\n",
              ".text_cell_render h4 {\n",
              "    font-family: 'Philosopher', serif;\n",
              "}\n",
              "\n",
              ".text_cell_render h5 {\n",
              "    font-family: 'Alegreya Sans', sans-serif;\n",
              "    font-weight: 300;\n",
              "    font-size: 16pt;\n",
              "    color: grey;\n",
              "    font-style: italic;\n",
              "    margin-bottom: .1em;\n",
              "    margin-top: 0.1em;\n",
              "    display: block;\n",
              "}\n",
              "\n",
              ".text_cell_render h6 {\n",
              "    font-family: 'PT Mono', sans-serif;\n",
              "    font-weight: 300;\n",
              "    font-size: 10pt;\n",
              "    color: grey;\n",
              "    margin-bottom: 1px;\n",
              "    margin-top: 1px;\n",
              "}\n",
              "\n",
              ".CodeMirror{\n",
              "        font-family: \"PT Mono\";\n",
              "        font-size: 100%;\n",
              "}\n",
              "\n",
              "</style>\n",
              "\n"
            ],
            "text/plain": [
              "<IPython.core.display.HTML object>"
            ]
          },
          "execution_count": 1,
          "metadata": {},
          "output_type": "execute_result"
        }
      ],
      "source": [
        "from IPython.core.display import HTML\n",
        "css_file = 'style.css'\n",
        "HTML(open(css_file, 'r').read())"
      ]
    },
    {
      "cell_type": "markdown",
      "metadata": {
        "id": "9BH7g0PySfrV"
      },
      "source": [
        "![SegmentLocal](KRG_elegant_logo_for_light_BG.png \"segment\")\n",
        "![SegmentLocal](UCT_logo.gif \"segment\")"
      ]
    },
    {
      "cell_type": "code",
      "execution_count": null,
      "metadata": {
        "id": "Qk-z07DcSfrW"
      },
      "outputs": [],
      "source": [
        "# Comments will be in this form\n",
        "# Comments are not executed"
      ]
    },
    {
      "cell_type": "markdown",
      "metadata": {
        "id": "6MCh1BNKSfrW"
      },
      "source": [
        "# Geometrical view"
      ]
    },
    {
      "cell_type": "markdown",
      "metadata": {
        "id": "AsQwXJhXSfrW"
      },
      "source": [
        "## Preamble"
      ]
    },
    {
      "cell_type": "markdown",
      "metadata": {
        "id": "n8nUhlQtSfrW"
      },
      "source": []
    },
    {
      "cell_type": "markdown",
      "metadata": {
        "id": "luL4FIvbSfrW"
      },
      "source": [
        "## System of linear equations"
      ]
    },
    {
      "cell_type": "markdown",
      "metadata": {
        "id": "Y5TAJ6tBSfrW"
      },
      "source": [
        "Most courses and textbooks introduce linear algebra to solve systems of linear equations.  _Linear equations_ have independent variables that are each of power one and not transcendental.  Example are shown in (1) below."
      ]
    },
    {
      "cell_type": "markdown",
      "metadata": {
        "id": "NgNRx72pSfrW"
      },
      "source": [
        "$$ \\begin{align} {2x}-{y}&={3} \\\\ -{x} + 2{y} &= {0} \\end{align} \\tag{1} $$"
      ]
    },
    {
      "cell_type": "markdown",
      "metadata": {
        "id": "n90qBLhoSfrW"
      },
      "source": [
        "Solving systems of linear equations attempts at finding numerical solutions for the variables taht solve all the equations in the linear system.  A solution to (1) is shown in (2) below."
      ]
    },
    {
      "cell_type": "markdown",
      "metadata": {
        "id": "Sz_nFrViSfrW"
      },
      "source": [
        "$$\\begin{align}2 &\\left( 2 \\right) - 1 \\left( 1 \\right) = 3 \\\\ - &\\left( 2 \\right) + 2 \\left( 1 \\right) = 0\\end{align}\\tag{2}$$"
      ]
    },
    {
      "cell_type": "markdown",
      "metadata": {
        "id": "-TVf42HLSfrX"
      },
      "source": [
        "We can create an _augmented matrix_ from the system in (1).  To do this, we create a matrix of coefficients, including those from both sides of the equations.  We store the matrix as a computer variable called `A_augm`."
      ]
    },
    {
      "cell_type": "code",
      "execution_count": 2,
      "metadata": {
        "id": "tbaos2nzSfrX"
      },
      "outputs": [],
      "source": [
        "from sympy import Matrix"
      ]
    },
    {
      "cell_type": "code",
      "execution_count": 3,
      "metadata": {
        "colab": {
          "base_uri": "https://localhost:8080/",
          "height": 58
        },
        "id": "Jht2Tx-USfrX",
        "outputId": "132591ec-8a49-40d9-ef9e-f09bc292211e"
      },
      "outputs": [
        {
          "data": {
            "text/latex": [
              "$\\displaystyle \\left[\\begin{matrix}2 & -1 & 3\\\\-1 & 2 & 0\\end{matrix}\\right]$"
            ],
            "text/plain": [
              "Matrix([\n",
              "[ 2, -1, 3],\n",
              "[-1,  2, 0]])"
            ]
          },
          "execution_count": 3,
          "metadata": {},
          "output_type": "execute_result"
        }
      ],
      "source": [
        "A_augm = Matrix([[2, -1, 3], [-1, 2, 0]]) # Note the placement of ()'s and []'s\n",
        "A_augm # A_augm is a computer variable that contains the matrix"
      ]
    },
    {
      "cell_type": "markdown",
      "metadata": {
        "id": "oxLHyORfSfrX"
      },
      "source": [
        "Because `A_augm` was created using the `Matrix()` function from `sympy`, it is an instance of this type.  The `type()` indicates it more specificically as a _mutable, dense matrix_.  Mutable means that we can change the values of the elements (coefficients in this case) and dense because the value of each position in the matrix is stored.  (when there are many zeros, the a sparse matrix can be created, that only stores the values that are not zero and their positions.)"
      ]
    },
    {
      "cell_type": "code",
      "execution_count": 4,
      "metadata": {
        "colab": {
          "base_uri": "https://localhost:8080/"
        },
        "id": "qociw1fsSfrX",
        "outputId": "79ad258c-e11e-40a6-f75c-2770e3b7583c"
      },
      "outputs": [
        {
          "data": {
            "text/plain": [
              "sympy.matrices.dense.MutableDenseMatrix"
            ]
          },
          "execution_count": 4,
          "metadata": {},
          "output_type": "execute_result"
        }
      ],
      "source": [
        "# We can ask python what type of computer variable A_augm holds\n",
        "type(A_augm)  # We see that it is a mutable dense matrix"
      ]
    },
    {
      "cell_type": "markdown",
      "metadata": {
        "id": "MBPjGc3OSfrX"
      },
      "source": [
        "We can also create a _matrix of coefficients_.  It includes only ethe left-hand side coefficients."
      ]
    },
    {
      "cell_type": "code",
      "execution_count": 5,
      "metadata": {
        "colab": {
          "base_uri": "https://localhost:8080/",
          "height": 58
        },
        "id": "cagFpPx3SfrX",
        "outputId": "08d6a4c7-2215-419a-aac8-282dfc934988"
      },
      "outputs": [
        {
          "data": {
            "text/latex": [
              "$\\displaystyle \\left[\\begin{matrix}2 & -1\\\\-1 & 2\\end{matrix}\\right]$"
            ],
            "text/plain": [
              "Matrix([\n",
              "[ 2, -1],\n",
              "[-1,  2]])"
            ]
          },
          "execution_count": 5,
          "metadata": {},
          "output_type": "execute_result"
        }
      ],
      "source": [
        "A = Matrix([[2, -1], [-1, 2]])  # Matrix of coefficients\n",
        "A"
      ]
    },
    {
      "cell_type": "markdown",
      "metadata": {
        "id": "Z3ImrTM7SfrX"
      },
      "source": [
        "The variables (unknowns) can be expressed as a column vector, saved as the computer variable `x_vect` below.  First, we specify the variable `x` and `y` as mathematical variables using the `symbols()` function."
      ]
    },
    {
      "cell_type": "code",
      "execution_count": 6,
      "metadata": {
        "id": "PMqS19qHSfrX"
      },
      "outputs": [],
      "source": [
        "from sympy import symbols"
      ]
    },
    {
      "cell_type": "code",
      "execution_count": 7,
      "metadata": {
        "id": "2iJ1gZZMSfrX"
      },
      "outputs": [],
      "source": [
        "x, y, z = symbols('x y z') # Creating symbolic mathematical variables as opposed to computer variables\n",
        "# These symbols can no longer be used as computer variable names"
      ]
    },
    {
      "cell_type": "code",
      "execution_count": 8,
      "metadata": {
        "colab": {
          "base_uri": "https://localhost:8080/",
          "height": 58
        },
        "id": "RuaH8ASLSfrX",
        "outputId": "f06a556a-b710-4b76-9654-abdc8dc837d2"
      },
      "outputs": [
        {
          "data": {
            "text/latex": [
              "$\\displaystyle \\left[\\begin{matrix}x\\\\y\\end{matrix}\\right]$"
            ],
            "text/plain": [
              "Matrix([\n",
              "[x],\n",
              "[y]])"
            ]
          },
          "execution_count": 8,
          "metadata": {},
          "output_type": "execute_result"
        }
      ],
      "source": [
        "x_vect = Matrix([x, y])\n",
        "x_vect"
      ]
    },
    {
      "cell_type": "markdown",
      "metadata": {
        "id": "gj1DF3JlSfrY"
      },
      "source": [
        "The same goes for the column vector of solutions, saved as the computer variable `b_vect`."
      ]
    },
    {
      "cell_type": "code",
      "execution_count": 9,
      "metadata": {
        "colab": {
          "base_uri": "https://localhost:8080/",
          "height": 58
        },
        "id": "OXvx8eaISfrY",
        "outputId": "eb488923-f4fd-4fd0-d4ac-61ad9a43dd12"
      },
      "outputs": [
        {
          "data": {
            "text/latex": [
              "$\\displaystyle \\left[\\begin{matrix}3\\\\0\\end{matrix}\\right]$"
            ],
            "text/plain": [
              "Matrix([\n",
              "[3],\n",
              "[0]])"
            ]
          },
          "execution_count": 9,
          "metadata": {},
          "output_type": "execute_result"
        }
      ],
      "source": [
        "b_vect = Matrix([3, 0])\n",
        "b_vect"
      ]
    },
    {
      "cell_type": "markdown",
      "metadata": {
        "id": "2sVt8YStSfrY"
      },
      "source": [
        "In (3) below we see the matrix times the column vector results in the vector of solutions.  The (row, column) sizes are also shown."
      ]
    },
    {
      "cell_type": "markdown",
      "metadata": {
        "id": "mm3gV3xJSfrY"
      },
      "source": [
        "$$ \\begin{align} A_{2 \\times 2} \\quad \\mathbf{x}_{2 \\times 1} = \\mathbf{b}_{2 \\times 1} \\\\ \\\\ \\begin{bmatrix} 2 && -1 \\\\ -1 && 2 \\end{bmatrix} \\begin{bmatrix} x \\\\ y\\end{bmatrix} = \\begin{bmatrix} 3 \\\\ 0 \\end{bmatrix} \\end{align} \\tag{3}$$"
      ]
    },
    {
      "cell_type": "markdown",
      "metadata": {
        "id": "gJKIH-0bSfrY"
      },
      "source": [
        "The `Eq()` function is used below to do the matrix times the vector on the left-hand side (resulting in a column vector) and the solution vector on the right.  It gives a visual idea of how we use linear algebra to solve these systems."
      ]
    },
    {
      "cell_type": "code",
      "execution_count": 10,
      "metadata": {
        "id": "IrzDB8C9SfrY"
      },
      "outputs": [],
      "source": [
        "from sympy import Eq"
      ]
    },
    {
      "cell_type": "code",
      "execution_count": 11,
      "metadata": {
        "colab": {
          "base_uri": "https://localhost:8080/",
          "height": 58
        },
        "id": "L2YNxB0vSfrY",
        "outputId": "31a63afa-97b1-41f0-b311-e6b75740faa6"
      },
      "outputs": [
        {
          "data": {
            "text/latex": [
              "$\\displaystyle \\left[\\begin{matrix}2 x - y\\\\- x + 2 y\\end{matrix}\\right] = \\left[\\begin{matrix}3\\\\0\\end{matrix}\\right]$"
            ],
            "text/plain": [
              "Eq(Matrix([\n",
              "[ 2*x - y],\n",
              "[-x + 2*y]]), Matrix([\n",
              "[3],\n",
              "[0]]))"
            ]
          },
          "execution_count": 11,
          "metadata": {},
          "output_type": "execute_result"
        }
      ],
      "source": [
        "Eq(A * x_vect, b_vect) # From Ax = b\n",
        "# The Eq function takes the arguments left-hand-side (LHS), right-handside (RHS) of the equation"
      ]
    },
    {
      "cell_type": "markdown",
      "metadata": {
        "id": "SL19j-qaSfrY"
      },
      "source": [
        "## The row picture"
      ]
    },
    {
      "cell_type": "markdown",
      "metadata": {
        "id": "mO5jSIjvSfrY"
      },
      "source": [
        "Each linear equation above is an equation of a straight line.  This represents the _row picture_ of a linear system.  The solutions to both equations is at the point where they cross.  Have a look at the plot below. Don't be too concerned about the code for plotting.  It does not form part of this series of notebooks."
      ]
    },
    {
      "cell_type": "code",
      "execution_count": 12,
      "metadata": {
        "id": "Ke1ziElKSfrY"
      },
      "outputs": [],
      "source": [
        "import numpy as np\n",
        "%matplotlib inline\n",
        "import matplotlib.pyplot as plt"
      ]
    },
    {
      "cell_type": "code",
      "execution_count": 13,
      "metadata": {
        "colab": {
          "base_uri": "https://localhost:8080/",
          "height": 676
        },
        "id": "m7haxCAWSfrY",
        "outputId": "f2d8068e-2a58-490a-9bc0-806d867bf050"
      },
      "outputs": [
        {
          "data": {
            "image/png": "[encoded data removed]",
            "text/plain": [
              "<Figure size 1000x800 with 1 Axes>"
            ]
          },
          "metadata": {},
          "output_type": "display_data"
        }
      ],
      "source": [
        "x_vals = np.linspace(-3, 3, 100) # Create 100 values between -3 and 3\n",
        "# Note that we cannot use the computer variable x, because it has been reserved above as a mathematical variable in\n",
        "# the symbols function\n",
        "\n",
        "plt.figure(figsize = (10,8)) # Create a graph of size 10 by 8\n",
        "plt.plot(x_vals, 2 * x_vals - 3) # Plot every single value created above with 2 times that values\n",
        "# Taken from the first equation which was y = 2x or f(x) = 2x\n",
        "# The plot takes the arguments (code between parentheses) of x,y\n",
        "plt.plot(x_vals, ((x_vals / 2))) # Also plot the second equation\n",
        "plt.show; # Draw the plot on screen"
      ]
    },
    {
      "cell_type": "markdown",
      "metadata": {
        "id": "36_F2ZCkSfrY"
      },
      "source": [
        "We note that the two line cross at the point $\\left( 2, 1 \\right)$.  It should be clear that there are three possible outcomes for a system with two variables and two equations.  Either the lines cross with a single solution, or they do not cross at all (parallel lines), with no solutions, or they coincide, with infinitely many solutions."
      ]
    },
    {
      "cell_type": "markdown",
      "metadata": {
        "id": "1B6I6ZaJSfrY"
      },
      "source": [
        "## The column picture"
      ]
    },
    {
      "cell_type": "markdown",
      "metadata": {
        "id": "ugEmGOnNSfrY"
      },
      "source": [
        "We can view the same system as a vector problem.  Here the coefficients of each separate variable as a column vector.  This problem now becomes a linear combination of vectors.  We are thus asking how many (scalar multiplication) of one vector plus how many of the other vector will equal the vector on the right hand side.  This should be clear from (4) below."
      ]
    },
    {
      "cell_type": "markdown",
      "metadata": {
        "id": "MaATcdtrSfrZ"
      },
      "source": [
        "$$ x\\begin{bmatrix} 2 \\\\ -1 \\end{bmatrix}+y\\begin{bmatrix} -1 \\\\ 2 \\end{bmatrix}=\\begin{bmatrix} 3 \\\\ 0 \\end{bmatrix} \\tag{4}$$"
      ]
    },
    {
      "cell_type": "markdown",
      "metadata": {
        "id": "qBYhCknZSfrZ"
      },
      "source": [
        "As before, we create separate computer variables and show that the end-result is the same."
      ]
    },
    {
      "cell_type": "code",
      "execution_count": 14,
      "metadata": {
        "colab": {
          "base_uri": "https://localhost:8080/",
          "height": 58
        },
        "id": "bePyNGNxSfrZ",
        "outputId": "8e430fa2-6c56-40a5-8755-3ae126743e47"
      },
      "outputs": [
        {
          "data": {
            "text/latex": [
              "$\\displaystyle \\left[\\begin{matrix}2\\\\-1\\end{matrix}\\right]$"
            ],
            "text/plain": [
              "Matrix([\n",
              "[ 2],\n",
              "[-1]])"
            ]
          },
          "execution_count": 14,
          "metadata": {},
          "output_type": "execute_result"
        }
      ],
      "source": [
        "x_var_vect = Matrix([2, -1])\n",
        "x_var_vect"
      ]
    },
    {
      "cell_type": "code",
      "execution_count": 15,
      "metadata": {
        "colab": {
          "base_uri": "https://localhost:8080/",
          "height": 58
        },
        "id": "YL4rOiFdSfrZ",
        "outputId": "521eccf7-33f3-42cd-b289-b625fb4ed8e3"
      },
      "outputs": [
        {
          "data": {
            "text/latex": [
              "$\\displaystyle \\left[\\begin{matrix}-1\\\\2\\end{matrix}\\right]$"
            ],
            "text/plain": [
              "Matrix([\n",
              "[-1],\n",
              "[ 2]])"
            ]
          },
          "execution_count": 15,
          "metadata": {},
          "output_type": "execute_result"
        }
      ],
      "source": [
        "y_var_vect = Matrix([-1, 2])\n",
        "y_var_vect"
      ]
    },
    {
      "cell_type": "code",
      "execution_count": 16,
      "metadata": {
        "colab": {
          "base_uri": "https://localhost:8080/",
          "height": 58
        },
        "id": "Z-WrJhEhSfrZ",
        "outputId": "c7d4e46e-5bfe-412b-8670-c8922f4b493c"
      },
      "outputs": [
        {
          "data": {
            "text/latex": [
              "$\\displaystyle \\left[\\begin{matrix}2 x - y\\\\- x + 2 y\\end{matrix}\\right] = \\left[\\begin{matrix}3\\\\0\\end{matrix}\\right]$"
            ],
            "text/plain": [
              "Eq(Matrix([\n",
              "[ 2*x - y],\n",
              "[-x + 2*y]]), Matrix([\n",
              "[3],\n",
              "[0]]))"
            ]
          },
          "execution_count": 16,
          "metadata": {},
          "output_type": "execute_result"
        }
      ],
      "source": [
        "Eq(x * x_var_vect + y * y_var_vect, b_vect)"
      ]
    },
    {
      "cell_type": "markdown",
      "metadata": {
        "id": "qRqqJZZSSfrZ"
      },
      "source": [
        "In the image below, we see the two vectors (blue and green) and the resultant vector (orange)."
      ]
    },
    {
      "cell_type": "code",
      "execution_count": 17,
      "metadata": {
        "id": "q6C7Bc_zSfra",
        "outputId": "b3f6f8ab-68b4-476f-99df-b6a980da4bd3"
      },
      "outputs": [
        {
          "data": {
            "image/png": "[encoded data removed]",
            "text/plain": [
              "<Figure size 640x480 with 1 Axes>"
            ]
          },
          "metadata": {},
          "output_type": "display_data"
        }
      ],
      "source": [
        "ax = plt.axes()\n",
        "\n",
        "ax.arrow(0.0, 0.0, 2.0, -1.0,\n",
        "        length_includes_head=True,\n",
        "        head_width=0.5,\n",
        "         head_length=0.7,\n",
        "         fc='lightblue',\n",
        "         ec='black')\n",
        "ax.arrow(0.0, 0.0, -1.0, 2.0,\n",
        "        length_includes_head=True,\n",
        "        head_width=0.5,\n",
        "        head_length=0.7,\n",
        "        fc='lightgreen',\n",
        "        ec='black')\n",
        "ax.arrow(0.0, 0.0, 3.0, 0.0,\n",
        "        length_includes_head=True,\n",
        "        head_width=0.5,\n",
        "         head_length=0.7,\n",
        "         fc='orange',\n",
        "         ec='black')\n",
        "\n",
        "plt.grid()\n",
        "\n",
        "plt.xlim(-5,5)\n",
        "plt.ylim(-5,5)\n",
        "\n",
        "plt.title('Vector view',fontsize=10)\n",
        "\n",
        "plt.show();"
      ]
    },
    {
      "cell_type": "markdown",
      "metadata": {
        "id": "vYvyhCfPSfra"
      },
      "source": [
        "We know that it takes twice the blue vector and one time the green vector to give us the orange vector."
      ]
    },
    {
      "cell_type": "code",
      "execution_count": null,
      "metadata": {
        "id": "XAKGPoTdSfra",
        "outputId": "9cb46835-b72d-4e59-a486-96f2979c25f4"
      },
      "outputs": [
        {
          "data": {
            "image/png": "[encoded data removed]",
            "text/plain": [
              "<Figure size 432x288 with 1 Axes>"
            ]
          },
          "metadata": {
            "needs_background": "light"
          },
          "output_type": "display_data"
        }
      ],
      "source": [
        "ax = plt.axes()\n",
        "\n",
        "ax.arrow(0.0, 0.0, 2.0, -1.0,\n",
        "        length_includes_head=True,\n",
        "        head_width=0.5,\n",
        "         head_length=0.7,\n",
        "         fc='lightblue',\n",
        "         ec='black')\n",
        "ax.arrow(2.0, -1.0, 2.0, -1.0,\n",
        "        length_includes_head=True,\n",
        "        head_width=0.5,\n",
        "         head_length=0.7,\n",
        "         fc='lightblue',\n",
        "         ec='black')\n",
        "\n",
        "ax.arrow(4.0, -2.0, -1.0, 2.0,\n",
        "        length_includes_head=True,\n",
        "        head_width=0.5,\n",
        "        head_length=0.7,\n",
        "        fc='lightgreen',\n",
        "        ec='black')\n",
        "ax.arrow(0.0, 0.0, 3.0, 0.0,\n",
        "        length_includes_head=True,\n",
        "        head_width=0.5,\n",
        "         head_length=0.7,\n",
        "         fc='orange',\n",
        "         ec='black')\n",
        "\n",
        "plt.grid()\n",
        "\n",
        "plt.xlim(-5,5)\n",
        "plt.ylim(-5,5)\n",
        "\n",
        "plt.title('Vector view',fontsize=10)\n",
        "\n",
        "plt.show();"
      ]
    },
    {
      "cell_type": "markdown",
      "metadata": {
        "id": "a311qon3Sfra"
      },
      "source": [
        "It should be very clear that the two vectors are special in that linear combinations of them will allow us to fill a plane in $\\mathbb{R}^{2}$ (in which they both lie)."
      ]
    },
    {
      "cell_type": "markdown",
      "metadata": {
        "id": "Kp8nLLRcSfra"
      },
      "source": [
        "It should also be clear to see that these two vectors are not linear combinations of each other.  If this were so, they are linearly independent and linear combinations of them fill only a line in $\\mathbb{R}$."
      ]
    },
    {
      "cell_type": "markdown",
      "metadata": {
        "id": "EQw3fWYLSfra"
      },
      "source": [
        "We can imagine that the $xy$-plane is filled with (all the points are created by) vectors, i.e. I can find any coordinate by drawing a vector to it.  All these vectors together can be called a _set_ and they fill $\\mathbb{R}^{2}$.  Later we will learn about _basis vectors_ and how they _span_ a space."
      ]
    },
    {
      "cell_type": "markdown",
      "metadata": {
        "id": "Pp81v7DhSfra"
      },
      "source": [
        "## The 3-space picture"
      ]
    },
    {
      "cell_type": "markdown",
      "metadata": {
        "id": "uRIWxAqUSfra"
      },
      "source": [
        "To end this section, we take a look at the three equation with three variables."
      ]
    },
    {
      "cell_type": "markdown",
      "metadata": {
        "id": "I12d4k5jSfrb"
      },
      "source": [
        "$$ \\begin{align} {3x}+{2y}-{z}&=2 \\\\ {x}-{2y}-{z}&=3 \\\\ {2x}+{y}-{z}&={1} \\end{align} \\tag{5}$$"
      ]
    },
    {
      "cell_type": "markdown",
      "metadata": {
        "id": "rqOZfYvqSfrb"
      },
      "source": [
        "We can create an augmented matrix from the coefficents, stored in the computer variable `A_augm` below."
      ]
    },
    {
      "cell_type": "code",
      "execution_count": null,
      "metadata": {
        "id": "mLAHzRMdSfrb",
        "outputId": "2ca88098-e5ce-4221-ba48-8da4d242c8ac"
      },
      "outputs": [
        {
          "data": {
            "text/latex": [
              "$\\displaystyle \\left[\\begin{matrix}3 & 2 & -1 & 2\\\\1 & -2 & -1 & 3\\\\2 & 1 & -1 & 1\\end{matrix}\\right]$"
            ],
            "text/plain": [
              "Matrix([\n",
              "[3,  2, -1, 2],\n",
              "[1, -2, -1, 3],\n",
              "[2,  1, -1, 1]])"
            ]
          },
          "execution_count": 30,
          "metadata": {},
          "output_type": "execute_result"
        }
      ],
      "source": [
        "A_augm = Matrix([[3, 2, -1, 2], [1, -2, -1, 3], [2, 1, -1, 1]])\n",
        "A_augm"
      ]
    },
    {
      "cell_type": "markdown",
      "metadata": {
        "id": "eFPijzOzSfrb"
      },
      "source": [
        "The `.rref()` method will quickly solve the linear system for use."
      ]
    },
    {
      "cell_type": "code",
      "execution_count": null,
      "metadata": {
        "id": "RJMtZAPTSfrb",
        "outputId": "e1fde3f3-08c8-4ec1-a2d9-e51ecec483da"
      },
      "outputs": [
        {
          "data": {
            "text/plain": [
              "(Matrix([\n",
              " [1, 0, 0,  5/2],\n",
              " [0, 1, 0, -3/2],\n",
              " [0, 0, 1,  5/2]]), (0, 1, 2))"
            ]
          },
          "execution_count": 31,
          "metadata": {},
          "output_type": "execute_result"
        }
      ],
      "source": [
        "A_augm.rref()"
      ]
    },
    {
      "cell_type": "markdown",
      "metadata": {
        "id": "bAlR7OHXSfrb"
      },
      "source": [
        "The solution is where three planes in $\\mathbb{R}^{3}$ _cross_.  We can once again imagine that the planes (each equation) may never cross or lie on-top of each other.  Below is an image of three planes crossing at one point."
      ]
    },
    {
      "cell_type": "code",
      "execution_count": null,
      "metadata": {
        "id": "RPcGKVhHSfrc"
      },
      "outputs": [],
      "source": [
        "from sympy.plotting import plot3d"
      ]
    },
    {
      "cell_type": "code",
      "execution_count": null,
      "metadata": {
        "id": "h2g3_PD0Sfrc",
        "outputId": "b3f619e6-5a7b-4a4b-e9e8-77a5b212f771"
      },
      "outputs": [
        {
          "data": {
            "image/png": "[encoded data removed]",
            "text/plain": [
              "<Figure size 432x288 with 1 Axes>"
            ]
          },
          "metadata": {
            "needs_background": "light"
          },
          "output_type": "display_data"
        }
      ],
      "source": [
        "plot3d((3*x+2*y-2, (x,-5,5), (y,-5,5)),\n",
        "      (x-2*y-3, (x,-5,5), (y,-5,5)),\n",
        "      (2*x+y-1, (x,-5,5), (y,-5,5)));"
      ]
    },
    {
      "cell_type": "markdown",
      "metadata": {
        "id": "1T9LjJA-Sfrc"
      },
      "source": [
        "As before, we can view this problem as a column picture."
      ]
    },
    {
      "cell_type": "markdown",
      "metadata": {},
      "source": [
        "# Interactive exploration of basic concepts"
      ]
    },
    {
      "cell_type": "code",
      "execution_count": 52,
      "metadata": {},
      "outputs": [
        {
          "data": {
            "application/vnd.jupyter.widget-view+json": {
              "model_id": "3fc94797411f4066ac80e592140c88a1",
              "version_major": 2,
              "version_minor": 0
            },
            "text/plain": [
              "HBox(children=(VBox(children=(HTML(value='<h3>Vectors</h3>'), IntSlider(value=2, continuous_update=False, desc…"
            ]
          },
          "metadata": {},
          "output_type": "display_data"
        },
        {
          "data": {
            "application/vnd.jupyter.widget-view+json": {
              "model_id": "3bc86a22defa4ac78498aad06de8c3b9",
              "version_major": 2,
              "version_minor": 0
            },
            "text/plain": [
              "HBox(children=(Button(description='Randomize vectors', style=ButtonStyle()), Button(description='Randomize mat…"
            ]
          },
          "metadata": {},
          "output_type": "display_data"
        },
        {
          "data": {
            "application/vnd.jupyter.widget-view+json": {
              "model_id": "9679787da1b94039a1692a2452701200",
              "version_major": 2,
              "version_minor": 0
            },
            "text/plain": [
              "Output()"
            ]
          },
          "metadata": {},
          "output_type": "display_data"
        }
      ],
      "source": [
        "\n",
        "import numpy as np\n",
        "import matplotlib.pyplot as plt\n",
        "\n",
        "import ipywidgets as widgets\n",
        "from IPython.display import display, Markdown, clear_output\n",
        "\n",
        "# --------------------\n",
        "# Helper computations\n",
        "# --------------------\n",
        "\n",
        "\n",
        "def dot(a, b):\n",
        "    return float(np.dot(a, b))\n",
        "\n",
        "\n",
        "def cross2d_scalar(a, b):\n",
        "    \"\"\"2D 'vector product' (z-component of 3D cross product).\"\"\"\n",
        "    return float(a[0]*b[1] - a[1]*b[0])\n",
        "\n",
        "\n",
        "def angle_between(a, b):\n",
        "    na = np.linalg.norm(a)\n",
        "    nb = np.linalg.norm(b)\n",
        "    if na == 0 or nb == 0:\n",
        "        return np.nan\n",
        "    c = np.clip(dot(a, b)/(na*nb), -1.0, 1.0)\n",
        "    return float(np.degrees(np.arccos(c)))\n",
        "\n",
        "\n",
        "def apply_lin_transform(M, v):\n",
        "    return M @ v\n",
        "\n",
        "\n",
        "def det2(M):\n",
        "    return float(np.linalg.det(M))\n",
        "\n",
        "\n",
        "def projection(a, b):\n",
        "    \"\"\"Projection of a onto b (vector).\"\"\"\n",
        "    bb = dot(b, b)\n",
        "    if bb == 0:\n",
        "        return np.array([np.nan, np.nan], dtype=float)\n",
        "    return (dot(a, b)/bb) * b\n",
        "\n",
        "\n",
        "def make_slider(description, vmin, vmax, vinit):\n",
        "    return widgets.IntSlider(\n",
        "        value=vinit, min=vmin, max=vmax, step=1, description=description, continuous_update=False\n",
        "    )\n",
        "\n",
        "\n",
        "# Vector sliders\n",
        "ax = make_slider(\"a_x\", -10, 10, 2)\n",
        "ay = make_slider(\"a_y\", -10, 10, 1)\n",
        "bx = make_slider(\"b_x\", -10, 10, -1)\n",
        "by = make_slider(\"b_y\", -10, 10, 3)\n",
        "\n",
        "# Matrix sliders\n",
        "m11 = make_slider(\"m11\", -5, 5, 1)\n",
        "m12 = make_slider(\"m12\", -5, 5, 0)\n",
        "m21 = make_slider(\"m21\", -5, 5, 0)\n",
        "m22 = make_slider(\"m22\", -5, 5, 1)\n",
        "\n",
        "# Toggles\n",
        "normalize_chk = widgets.Checkbox(\n",
        "    value=False, description=\"Normalize vectors a and b (unit length)\")\n",
        "show_proj_chk = widgets.Checkbox(\n",
        "    value=True, description=\"Show projection of a onto b\")\n",
        "show_parallelogram_chk = widgets.Checkbox(\n",
        "    value=True, description=\"Show parallelogram area (|cross|)\")\n",
        "\n",
        "# Buttons\n",
        "btn_rand_vec = widgets.Button(description=\"Randomize vectors\")\n",
        "btn_rand_mat = widgets.Button(description=\"Randomize matrix\")\n",
        "btn_reset = widgets.Button(description=\"Reset\")\n",
        "\n",
        "# Randomize & Reset\n",
        "rng = np.random.default_rng()\n",
        "\n",
        "\n",
        "def on_rand_vec(_):\n",
        "    ax.value = int(rng.integers(-8, 9))\n",
        "    ay.value = int(rng.integers(-8, 9))\n",
        "    bx.value = int(rng.integers(-8, 9))\n",
        "    by.value = int(rng.integers(-8, 9))\n",
        "\n",
        "\n",
        "def on_rand_mat(_):\n",
        "    m11.value = int(rng.integers(-4, 5))\n",
        "    m12.value = int(rng.integers(-4, 5))\n",
        "    m21.value = int(rng.integers(-4, 5))\n",
        "    m22.value = int(rng.integers(-4, 5))\n",
        "\n",
        "\n",
        "def on_reset(_):\n",
        "    ax.value, ay.value = 2, 1\n",
        "    bx.value, by.value = -1, 3\n",
        "    m11.value, m12.value, m21.value, m22.value = 1, 0, 0, 1\n",
        "    normalize_chk.value = False\n",
        "    show_proj_chk.value = True\n",
        "    show_parallelogram_chk.value = True\n",
        "\n",
        "\n",
        "btn_rand_vec.on_click(on_rand_vec)\n",
        "btn_rand_mat.on_click(on_rand_mat)\n",
        "btn_reset.on_click(on_reset)\n",
        "\n",
        "# Plotting helpers\n",
        "\n",
        "\n",
        "def nice_limits(points, pad=1.0):\n",
        "    arr = np.array(points)\n",
        "    xmin = np.nanmin(arr[:, 0])\n",
        "    xmax = np.nanmax(arr[:, 0])\n",
        "    ymin = np.nanmin(arr[:, 1])\n",
        "    ymax = np.nanmax(arr[:, 1])\n",
        "    dx = xmax - xmin\n",
        "    dy = ymax - ymin\n",
        "    if dx == 0:\n",
        "        dx = 1.0\n",
        "    if dy == 0:\n",
        "        dy = 1.0\n",
        "    return (xmin - pad*dx, xmax + pad*dx, ymin - pad*dy, ymax + pad*dy)\n",
        "\n",
        "\n",
        "def draw_vectors(axplt, vecs, labels, origin=(0, 0)):\n",
        "    ox, oy = origin\n",
        "    for v, lbl in zip(vecs, labels):\n",
        "        axplt.quiver(ox, oy, v[0], v[1], angles=\"xy\",\n",
        "                     scale_units=\"xy\", scale=1)\n",
        "        axplt.text(ox + v[0], oy + v[1], f\" {lbl}\", fontsize=10)\n",
        "\n",
        "\n",
        "def draw_parallelogram(axplt, a, b, origin=(0, 0)):\n",
        "    \"\"\"Draw the parallelogram spanned by a and b (from origin).\"\"\"\n",
        "    O = np.array(origin, dtype=float)\n",
        "    A = O + a\n",
        "    B = O + b\n",
        "    AplusB = O + a + b\n",
        "    poly = np.vstack([O, A, AplusB, B, O])\n",
        "    axplt.plot(poly[:, 0], poly[:, 1])\n",
        "\n",
        "\n",
        "def make_basis(M):\n",
        "    e1 = M @ np.array([1.0, 0.0])\n",
        "    e2 = M @ np.array([0.0, 1.0])\n",
        "    return e1, e2\n",
        "\n",
        "\n",
        "# Core update function\n",
        "out_info = widgets.Output()\n",
        "\n",
        "\n",
        "def update(*_):\n",
        "    with out_info:\n",
        "        clear_output(wait=True)\n",
        "\n",
        "        a = np.array([ax.value, ay.value], dtype=float)\n",
        "        b = np.array([bx.value, by.value], dtype=float)\n",
        "        M = np.array([[m11.value, m12.value], [\n",
        "                     m21.value, m22.value]], dtype=float)\n",
        "\n",
        "        a_disp = a.copy()\n",
        "        b_disp = b.copy()\n",
        "        if normalize_chk.value:\n",
        "            na = np.linalg.norm(a)\n",
        "            nb = np.linalg.norm(b)\n",
        "            if na != 0:\n",
        "                a_disp = a/na\n",
        "            if nb != 0:\n",
        "                b_disp = b/nb\n",
        "\n",
        "        # Scalars\n",
        "        dp = dot(a_disp, b_disp)\n",
        "        cp = cross2d_scalar(a_disp, b_disp)\n",
        "        ang = angle_between(a_disp, b_disp)\n",
        "        detM = det2(M)\n",
        "\n",
        "        # Projections\n",
        "        proj_a_on_b = projection(a_disp, b_disp)\n",
        "\n",
        "        # Transform vectors and basis\n",
        "        aT = apply_lin_transform(M, a_disp)\n",
        "        bT = apply_lin_transform(M, b_disp)\n",
        "        e1, e2 = make_basis(M)\n",
        "\n",
        "        # Text summary\n",
        "        display(Markdown(\"### Numeric results\"))\n",
        "        rows = [\n",
        "            f\"- **Vector a** = ({a_disp[0]:.3g}, {a_disp[1]:.3g})\",\n",
        "            f\"- **Vector b** = ({b_disp[0]:.3g}, {b_disp[1]:.3g})\",\n",
        "            f\"- **Dot product a·b** = {dp:.6g}\",\n",
        "            f\"- **Angle between a and b** = {ang:.3g}°\" if not np.isnan(\n",
        "                ang) else \"- **Angle between a and b** = undefined (one vector is zero)\",\n",
        "            f\"- **2D cross 'vector product' (a×b)_z** = {cp:.6g} (signed area × 1)\",\n",
        "            f\"- **Matrix M** = [[{M[0, 0]:.3g}, {M[0, 1]:.3g}], [{M[1, 0]:.3g}, {M[1, 1]:.3g}]]\",\n",
        "            f\"- **det(M)** = {detM:.6g}  (area scale; sign shows orientation flip)\",\n",
        "            f\"- **Transformed a' = M·a** = ({aT[0]:.3g}, {aT[1]:.3g})\",\n",
        "            f\"- **Transformed b' = M·b** = ({bT[0]:.3g}, {bT[1]:.3g})\",\n",
        "        ]\n",
        "        if show_proj_chk.value:\n",
        "            rows.append(\n",
        "                f\"- **Projection of a onto b** = ({proj_a_on_b[0]:.3g}, {proj_a_on_b[1]:.3g})\")\n",
        "        display(Markdown(\"\\n\".join(rows)))\n",
        "\n",
        "        # Plot 1: Original vectors\n",
        "        pts = [\n",
        "            [0, 0], a_disp, b_disp, a_disp + b_disp, proj_a_on_b\n",
        "        ]\n",
        "        x0, x1, y0, y1 = nice_limits(pts, pad=0.2)\n",
        "        fig1 = plt.figure(figsize=(5, 5))\n",
        "        ax1 = fig1.gca()\n",
        "        ax1.set_aspect(\"equal\", adjustable=\"box\")\n",
        "        ax1.axhline(0)\n",
        "        ax1.axvline(0)\n",
        "        draw_vectors(ax1, [a_disp, b_disp], [\"a\", \"b\"])\n",
        "        if show_parallelogram_chk.value:\n",
        "            draw_parallelogram(ax1, a_disp, b_disp)\n",
        "        if show_proj_chk.value and np.all(np.isfinite(proj_a_on_b)):\n",
        "            draw_vectors(ax1, [proj_a_on_b], [\"proj\\u2090(b)\"])\n",
        "        ax1.set_xlim(x0, x1)\n",
        "        ax1.set_ylim(y0, y1)\n",
        "        ax1.set_title(\"Original vectors (a, b) and constructions\")\n",
        "        ax1.grid(True)\n",
        "        plt.show()\n",
        "\n",
        "        # Plot 2: Transformed vectors & new basis\n",
        "        ptsT = [\n",
        "            [0, 0], aT, bT, aT + bT, e1, e2\n",
        "        ]\n",
        "        x0, x1, y0, y1 = nice_limits(ptsT, pad=0.2)\n",
        "        fig2 = plt.figure(figsize=(5, 5))\n",
        "        ax2 = fig2.gca()\n",
        "        ax2.set_aspect(\"equal\", adjustable=\"box\")\n",
        "        ax2.axhline(0)\n",
        "        ax2.axvline(0)\n",
        "        # Draw transformed canonical basis to visualize the linear map\n",
        "        draw_vectors(ax2, [e1, e2], [\"M·e1\", \"M·e2\"])\n",
        "        # Draw transformed vectors\n",
        "        draw_vectors(ax2, [aT, bT], [\"a' = M·a\", \"b' = M·b\"])\n",
        "        if show_parallelogram_chk.value:\n",
        "            draw_parallelogram(ax2, aT, bT)\n",
        "        ax2.set_xlim(x0, x1)\n",
        "        ax2.set_ylim(y0, y1)\n",
        "        ax2.set_title(\"After linear transformation (M)\")\n",
        "        ax2.grid(True)\n",
        "        plt.show()\n",
        "\n",
        "\n",
        "# Wire up\n",
        "for w in [ax, ay, bx, by, m11, m12, m21, m22, normalize_chk, show_proj_chk, show_parallelogram_chk]:\n",
        "    w.observe(update, names=\"value\")\n",
        "\n",
        "# Initial render\n",
        "update()\n",
        "\n",
        "# Layout\n",
        "vec_box = widgets.VBox(\n",
        "    [widgets.HTML(\"<h3>Vectors</h3>\"), ax, ay, bx, by, normalize_chk])\n",
        "mat_box = widgets.VBox(\n",
        "    [widgets.HTML(\"<h3>Matrix M (2×2)</h3>\"), m11, m12, m21, m22])\n",
        "toggles = widgets.VBox([widgets.HTML(\"<h3>Options</h3>\"),\n",
        "                       show_proj_chk, show_parallelogram_chk])\n",
        "\n",
        "buttons = widgets.HBox([btn_rand_vec, btn_rand_mat, btn_reset])\n",
        "\n",
        "ui = widgets.HBox([vec_box, widgets.HTML(\"&nbsp;&nbsp;&nbsp;\"),\n",
        "                  mat_box, widgets.HTML(\"&nbsp;&nbsp;&nbsp;\"), toggles])\n",
        "display(ui, buttons, out_info)"
      ]
    },
    {
      "cell_type": "markdown",
      "metadata": {},
      "source": [
        "# Vector product"
      ]
    },
    {
      "cell_type": "code",
      "execution_count": 48,
      "metadata": {},
      "outputs": [
        {
          "data": {
            "image/png": "[encoded data removed]",
            "text/plain": [
              "<Figure size 640x480 with 1 Axes>"
            ]
          },
          "metadata": {},
          "output_type": "display_data"
        }
      ],
      "source": [
        "a = np.array([[2, -2, -2]])\n",
        "b = np.array([-2, -2, 2])\n",
        "np.cross(a, b)  # Cross product of a and b\n",
        "\n",
        "# show in 3D\n",
        "fig = plt.figure()\n",
        "ax = fig.add_subplot(111, projection='3d')\n",
        "ax.quiver(0, 0, 0, a[0, 0], a[0, 1], a[0, 2], color='r', label='a')\n",
        "ax.quiver(0, 0, 0, b[0], b[1], b[2], color='b', label='b')\n",
        "ax.quiver(0, 0, 0, *(np.cross(a, b)[0]), color='g', label='a x b')\n",
        "ax.set_xlim([ -1, 5])\n",
        "ax.set_ylim([-5, 5])\n",
        "ax.set_zlim([-5, 5])\n",
        "ax.set_xlabel('X axis')\n",
        "ax.set_ylabel('Y axis')\n",
        "ax.set_zlabel('Z axis')\n",
        "ax.view_init(elev=20., azim=30)\n",
        "plt.title('Cross product', fontsize=15)\n",
        "plt.legend()\n",
        "plt.show()"
      ]
    },
    {
      "cell_type": "markdown",
      "metadata": {
        "id": "XlGh5h40Sfrc"
      },
      "source": [
        "## Conclusion"
      ]
    },
    {
      "cell_type": "markdown",
      "metadata": {
        "id": "wgSg3cGsSfrc"
      },
      "source": [
        "We have seen how linear systems can be viewed as rows or columns and how they can be seen as matrices and vectors."
      ]
    },
    {
      "cell_type": "code",
      "execution_count": null,
      "metadata": {
        "id": "SjgXbhJUSfrc"
      },
      "outputs": [],
      "source": []
    }
  ],
  "metadata": {
    "colab": {
      "provenance": []
    },
    "kernelspec": {
      "display_name": "Python 3",
      "language": "python",
      "name": "python3"
    },
    "language_info": {
      "codemirror_mode": {
        "name": "ipython",
        "version": 3
      },
      "file_extension": ".py",
      "mimetype": "text/x-python",
      "name": "python",
      "nbconvert_exporter": "python",
      "pygments_lexer": "ipython3",
      "version": "3.12.10"
    }
  },
  "nbformat": 4,
  "nbformat_minor": 0
}
